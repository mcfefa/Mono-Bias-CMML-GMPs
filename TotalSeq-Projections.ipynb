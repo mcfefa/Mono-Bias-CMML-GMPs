{
 "cells": [
  {
   "cell_type": "code",
   "execution_count": null,
   "id": "5fdaf3fe-b372-48c2-8233-af072c79ffba",
   "metadata": {
    "tags": []
   },
   "outputs": [],
   "source": [
    "libraryPath <- \"/home/ferrallm/Mono-Bias-CMML-GMPs/lib\""
   ]
  },
  {
   "cell_type": "code",
   "execution_count": null,
   "id": "e5d6d51b-ff81-417f-b93c-e804789da616",
   "metadata": {},
   "outputs": [],
   "source": [
    "## Seurat Installation, following along with: https://satijalab.org/seurat/articles/install.html\n",
    "##    package compatibility issues when trying to install with CRAN"
   ]
  },
  {
   "cell_type": "code",
   "execution_count": 5,
   "id": "beaf1083-0beb-4041-aab0-91c0f93a6474",
   "metadata": {
    "tags": []
   },
   "outputs": [
    {
     "name": "stderr",
     "output_type": "stream",
     "text": [
      "Downloading GitHub repo mojaveazure/seurat-object@seurat5\n",
      "\n"
     ]
    },
    {
     "name": "stdout",
     "output_type": "stream",
     "text": [
      "rlang     (1.1.1     -> 1.1.2    ) [CRAN]\n",
      "cli       (3.6.1     -> 3.6.2    ) [CRAN]\n",
      "dotCall64 (1.0-2     -> 1.1-1    ) [CRAN]\n",
      "RcppEigen (0.3.3.9.3 -> 0.3.3.9.4) [CRAN]\n",
      "lifecycle (1.0.3     -> 1.0.4    ) [CRAN]\n",
      "spam      (2.9-1     -> 2.10-0   ) [CRAN]\n",
      "sp        (2.1-0     -> 2.1-2    ) [CRAN]\n"
     ]
    },
    {
     "name": "stderr",
     "output_type": "stream",
     "text": [
      "Installing 7 packages: rlang, cli, dotCall64, RcppEigen, lifecycle, spam, sp\n",
      "\n"
     ]
    },
    {
     "name": "stdout",
     "output_type": "stream",
     "text": [
      "\u001b[36m──\u001b[39m \u001b[36mR CMD build\u001b[39m \u001b[36m─────────────────────────────────────────────────────────────────\u001b[39m\n",
      "* checking for file ‘/scratch/local/17588649/RtmpjSrwov/remotes33199f477e9aea/mojaveazure-seurat-object-e1e096c/DESCRIPTION’ ... OK\n",
      "* preparing ‘SeuratObject’:\n",
      "* checking DESCRIPTION meta-information ... OK\n",
      "* cleaning src\n",
      "* installing the package to process help pages\n",
      "The legacy packages maptools, rgdal, and rgeos, underpinning the sp package,\n",
      "which was just loaded, were retired in October 2023.\n",
      "Please refer to R-spatial evolution reports for details, especially\n",
      "https://r-spatial.org/r/2023/05/15/evolution4.html.\n",
      "It may be desirable to make the sf package available;\n",
      "package maintainers should consider adding sf to Suggests:.\n",
      "* saving partial Rd database\n",
      "* cleaning src\n",
      "* checking for LF line-endings in source and make files and shell scripts\n",
      "* checking for empty or unneeded directories\n",
      "* building ‘SeuratObject_5.0.0.tar.gz’\n",
      "\n"
     ]
    }
   ],
   "source": [
    "remotes::install_github(\"mojaveazure/seurat-object\", \"seurat5\", lib=libraryPath)"
   ]
  },
  {
   "cell_type": "code",
   "execution_count": 6,
   "id": "a4c069cd-ef0f-4344-b15b-89f10b13a30e",
   "metadata": {
    "tags": []
   },
   "outputs": [
    {
     "name": "stderr",
     "output_type": "stream",
     "text": [
      "Installing 50 packages: vctrs, utf8, rlang, lifecycle, fansi, cli, spatstat.utils, deldir, spatstat.geom, spatstat.data, sass, jsonlite, htmltools, later, stringi, stringr, gtools, rprojroot, withr, cpp11, dplyr, tinytex, bslib, xfun, evaluate, knitr, curl, httpuv, scales, dotCall64, dqrng, spatstat.sparse, spatstat.random, RcppArmadillo, matrixStats, RcppEigen, data.table, crosstalk, htmlwidgets, shiny, igraph, reticulate, spam, sp, spatstat.explore, sctransform, Rtsne, plotly, leiden, SeuratObject\n",
      "\n"
     ]
    },
    {
     "ename": "ERROR",
     "evalue": "Error: Failed to install 'Seurat' from GitHub:\n  \u001b[33m!\u001b[39m System command 'R' failed\n",
     "output_type": "error",
     "traceback": [
      "Error: Failed to install 'Seurat' from GitHub:\n  \u001b[33m!\u001b[39m System command 'R' failed\nTraceback:\n",
      "1. remotes::install_github(\"satijalab/seurat\", \"seurat5\", lib = libraryPath, \n .     quiet = TRUE)",
      "2. install_remotes(remotes, auth_token = auth_token, host = host, \n .     dependencies = dependencies, upgrade = upgrade, force = force, \n .     quiet = quiet, build = build, build_opts = build_opts, build_manual = build_manual, \n .     build_vignettes = build_vignettes, repos = repos, type = type, \n .     ...)",
      "3. tryCatch(res[[i]] <- install_remote(remotes[[i]], ...), error = function(e) {\n .     stop(remote_install_error(remotes[[i]], e))\n . })",
      "4. tryCatchList(expr, classes, parentenv, handlers)",
      "5. tryCatchOne(expr, names, parentenv, handlers[[1L]])",
      "6. value[[3L]](cond)"
     ]
    }
   ],
   "source": [
    "remotes::install_github(\"satijalab/seurat\", \"seurat5\", lib=libraryPath, quiet = TRUE)"
   ]
  },
  {
   "cell_type": "code",
   "execution_count": null,
   "id": "d0099a2e-e58f-48ec-b9bb-f2166811dfc0",
   "metadata": {
    "tags": []
   },
   "outputs": [],
   "source": [
    "library('Seurat', lib.loc=libraryPath)"
   ]
  },
  {
   "cell_type": "code",
   "execution_count": null,
   "id": "14eecbd0-41c7-4455-9010-f72b1a36fdfd",
   "metadata": {},
   "outputs": [],
   "source": [
    "remotes::install_github(\"satijalab/seurat-data\", \"seurat5\", lib=libraryPath, quiet = TRUE)\n",
    "remotes::install_github(\"satijalab/azimuth\", \"seurat5\", lib=libraryPath, quiet = TRUE)\n",
    "remotes::install_github(\"satijalab/seurat-wrappers\", \"seurat5\", lib=libraryPath, quiet = TRUE)\n",
    "remotes::install_github(\"stuart-lab/signac\", \"seurat5\", lib=libraryPath, quiet = TRUE)"
   ]
  },
  {
   "cell_type": "code",
   "execution_count": null,
   "id": "381d9309-0286-452b-848c-2cc56eec7cfd",
   "metadata": {},
   "outputs": [],
   "source": []
  },
  {
   "cell_type": "code",
   "execution_count": null,
   "id": "9fcb5270-222b-40d5-b7a9-5daaa39bd987",
   "metadata": {},
   "outputs": [],
   "source": []
  },
  {
   "cell_type": "code",
   "execution_count": null,
   "id": "82ee24bc-57bb-4c1e-936b-589722bc9ff5",
   "metadata": {},
   "outputs": [],
   "source": []
  },
  {
   "cell_type": "code",
   "execution_count": null,
   "id": "ee19a9b3-4b1a-4a98-825a-e644154efe4e",
   "metadata": {
    "tags": []
   },
   "outputs": [],
   "source": [
    "# install.packages('BiocManager', lib=libraryPath)"
   ]
  },
  {
   "cell_type": "code",
   "execution_count": null,
   "id": "bc1bbed3-4616-4788-9fc9-b3e6bc523bd6",
   "metadata": {
    "tags": []
   },
   "outputs": [],
   "source": [
    "library('BiocManager', lib=libraryPath)"
   ]
  },
  {
   "cell_type": "code",
   "execution_count": null,
   "id": "6f45d551-a7b8-4d86-b845-fae2659ee68a",
   "metadata": {
    "tags": []
   },
   "outputs": [],
   "source": [
    "sessionInfo()"
   ]
  },
  {
   "cell_type": "raw",
   "id": "d7df7824-551a-44e3-ac4e-7f7b6328b175",
   "metadata": {},
   "source": [
    "#### CREATING INDIVIDUAL RDS FILES FOR EACH TOTALSEQ PATIENT"
   ]
  },
  {
   "cell_type": "raw",
   "id": "af2722c4-1e5a-45fc-bdd2-12937340a670",
   "metadata": {},
   "source": [
    "### DIRECTORIES\n",
    "\n",
    "BCD data: /blue/ferrallm/00_data/single-cell/CMML/BCD/allSeurat_39+8_postStandardPipeline_withHarmony_withSeuratGeneScores_05-20-2021_withWNT-2022-04-26.rds\n",
    "\n",
    "TotalSeq \n",
    "Batch1: /blue/ferrallm/00_data/single-cell/CMML/Moffitt-CICPT-4448-TotalSeq-Batch-01\n",
    "    P1_RX_1_001_CMML_MPN_NRAS\n",
    "    P2_RX_4_001_CMML_MPN_KRAS\n",
    "    P3_RX_8_001_CMML_MPN_KRAS\n",
    "    P4_KB_13_103_010_CMML_NRAS\n",
    "    P5_KB_14_103_011_CMML_NRAS\n",
    "Batch2: /blue/ferrallm/00_data/single-cell/CMML/Moffitt-CICPT-4448-TotalSeq-Batch-02\n",
    "    P6_1_X_001_CMML_MPN_KRAS\n",
    "    P7_2_U_001_CMML_MPN_NRAS\n",
    "    P8_KB_1_003_101_CMML_MPN_NRAS\n",
    "    P9_KB_10_103_007_CMML_NRAS\n",
    "    P10_PDX_9_002_CMML_MDS_KRAS"
   ]
  },
  {
   "cell_type": "code",
   "execution_count": null,
   "id": "71ea2c68-197f-4619-a0ed-384a3c9afd75",
   "metadata": {},
   "outputs": [],
   "source": []
  },
  {
   "cell_type": "code",
   "execution_count": null,
   "id": "11741026-2292-4d6e-b866-d49a83e21632",
   "metadata": {},
   "outputs": [],
   "source": []
  }
 ],
 "metadata": {
  "kernelspec": {
   "display_name": "UFRC R-4.2",
   "language": "R",
   "name": "ir-ufrc-4.2"
  },
  "language_info": {
   "codemirror_mode": "r",
   "file_extension": ".r",
   "mimetype": "text/x-r-source",
   "name": "R",
   "pygments_lexer": "r",
   "version": "4.2.3"
  }
 },
 "nbformat": 4,
 "nbformat_minor": 5
}
